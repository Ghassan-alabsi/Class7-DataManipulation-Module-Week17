{
 "cells": [
  {
   "attachments": {},
   "cell_type": "markdown",
   "metadata": {},
   "source": [
    "## Data Manipulation module\n",
    "### Homework assignment 1\n",
    "\n",
    "Welcome to the first homework assignment of the data manipulation module. In this assignment you will be working with NumPy and Pandas Series. The goal of this assignment is to get you familiar with these libraries and data types.\n",
    "\n",
    "### Instructions\n",
    "Read the exercises carefully and implement the requested functionality. Add your code in the cells provided with `YOUR CODE HERE` or `YOUR ANSWER HERE`. You can add cells if you need to. **Make sure to use NumPy methods** to find your answers. In some cases you might be able to read the answer, but we want to see you using the NumPy methods.\n",
    "\n",
    "### Hand-in\n",
    "To hand in your assignment, fork this notebook and commit your changes, then make a pull request to the original repository. The deadline for handing in the assignment is **Wednesday 18-01 23:59**."
   ]
  },
  {
   "cell_type": "code",
   "execution_count": null,
   "metadata": {},
   "outputs": [],
   "source": [
    "# imports, no need to edit\n",
    "\n",
    "import numpy as np\n",
    "import pandas as pd\n",
    "\n",
    "np.random.seed(42)"
   ]
  },
  {
   "attachments": {},
   "cell_type": "markdown",
   "metadata": {},
   "source": [
    "1. Explain the difference between a vector and matrix in NumPy in one sentence."
   ]
  },
  {
   "attachments": {},
   "cell_type": "markdown",
   "metadata": {},
   "source": [
    "YOUR ANSWER HERE"
   ]
  },
  {
   "attachments": {},
   "cell_type": "markdown",
   "metadata": {},
   "source": [
    "2. Construct a NumPy Array from a list of 10 elements."
   ]
  },
  {
   "cell_type": "code",
   "execution_count": null,
   "metadata": {},
   "outputs": [],
   "source": [
    "# YOUR CODE HERE"
   ]
  },
  {
   "attachments": {},
   "cell_type": "markdown",
   "metadata": {},
   "source": [
    "3. Construct a 10x10 matrix filled with '0's of the integer data type."
   ]
  },
  {
   "cell_type": "code",
   "execution_count": null,
   "metadata": {},
   "outputs": [],
   "source": [
    "# YOUR CODE HERE"
   ]
  },
  {
   "attachments": {},
   "cell_type": "markdown",
   "metadata": {},
   "source": [
    "4. Construct a 10x10 matrix filled with '1's, data type float."
   ]
  },
  {
   "cell_type": "code",
   "execution_count": null,
   "metadata": {},
   "outputs": [],
   "source": [
    "# YOUR CODE HERE"
   ]
  },
  {
   "attachments": {},
   "cell_type": "markdown",
   "metadata": {},
   "source": [
    "5. Construct a 10x10 matrix filled with '9's of the integer data type."
   ]
  },
  {
   "cell_type": "code",
   "execution_count": null,
   "metadata": {},
   "outputs": [],
   "source": [
    "# YOUR CODE HERE"
   ]
  },
  {
   "attachments": {},
   "cell_type": "markdown",
   "metadata": {},
   "source": [
    "6. Construct a one-dimensional array with values between 5 and 25 that jumps with steps of 3 (`[5, 8, ...]`)"
   ]
  },
  {
   "cell_type": "code",
   "execution_count": null,
   "metadata": {},
   "outputs": [],
   "source": [
    "# YOUR CODE HERE"
   ]
  },
  {
   "attachments": {},
   "cell_type": "markdown",
   "metadata": {},
   "source": [
    "7. Create an array of size 30 with evenly spaced values between -1 and 1."
   ]
  },
  {
   "cell_type": "code",
   "execution_count": null,
   "metadata": {},
   "outputs": [],
   "source": [
    "# YOUR CODE HERE"
   ]
  },
  {
   "attachments": {},
   "cell_type": "markdown",
   "metadata": {},
   "source": [
    "8. Construct a 5x6 matrix with integers from 0 to 30."
   ]
  },
  {
   "cell_type": "code",
   "execution_count": null,
   "metadata": {},
   "outputs": [],
   "source": [
    "# YOUR CODE HERE"
   ]
  },
  {
   "attachments": {},
   "cell_type": "markdown",
   "metadata": {},
   "source": [
    "9. Create an array of 30 random integers and sort it in ascending order."
   ]
  },
  {
   "cell_type": "code",
   "execution_count": null,
   "metadata": {},
   "outputs": [],
   "source": [
    "# YOUR CODE HERE"
   ]
  },
  {
   "attachments": {},
   "cell_type": "markdown",
   "metadata": {},
   "source": [
    "10. Construct a 5x10 matrix filled with the value 1 at each location. Print the following details about this matrix:\n",
    "- number of elements\n",
    "- shape of the matrix\n",
    "- the data type (using numpy methods)\n"
   ]
  },
  {
   "cell_type": "code",
   "execution_count": null,
   "metadata": {},
   "outputs": [],
   "source": [
    "# YOUR CODE HERE"
   ]
  },
  {
   "attachments": {},
   "cell_type": "markdown",
   "metadata": {},
   "source": [
    "11. Construct a 3x4x7 matrix with random integer values between 0 and 10 (a 3D matrix will be created).\n"
   ]
  },
  {
   "cell_type": "code",
   "execution_count": null,
   "metadata": {},
   "outputs": [],
   "source": [
    "# YOUR CODE HERE"
   ]
  },
  {
   "attachments": {},
   "cell_type": "markdown",
   "metadata": {},
   "source": [
    "12. Create an array of 20 random integers and reshape it into a 4x5 matrix."
   ]
  },
  {
   "cell_type": "code",
   "execution_count": null,
   "metadata": {},
   "outputs": [],
   "source": [
    "# YOUR CODE HERE"
   ]
  },
  {
   "attachments": {},
   "cell_type": "markdown",
   "metadata": {},
   "source": [
    "13. Construct a one-dimensional array by concetanating 4 separate one-dimensional arrays."
   ]
  },
  {
   "cell_type": "code",
   "execution_count": null,
   "metadata": {},
   "outputs": [],
   "source": [
    "# YOUR CODE HERE"
   ]
  },
  {
   "attachments": {},
   "cell_type": "markdown",
   "metadata": {},
   "source": [
    "14. Create a vector of length 3 (3x1) and a matrix of size 3x3. Combine these two arrays on a\n",
    "    column-by-column basis using numpy methods.\n"
   ]
  },
  {
   "cell_type": "code",
   "execution_count": null,
   "metadata": {},
   "outputs": [],
   "source": [
    "# YOUR CODE HERE"
   ]
  },
  {
   "attachments": {},
   "cell_type": "markdown",
   "metadata": {},
   "source": [
    "15. What is the difference between \"axis=1\" and \"axis=0\" in Numpy functions? "
   ]
  },
  {
   "attachments": {},
   "cell_type": "markdown",
   "metadata": {},
   "source": [
    "YOUR ANSWER HERE"
   ]
  },
  {
   "attachments": {},
   "cell_type": "markdown",
   "metadata": {},
   "source": [
    "16. Create a random 1D vector with 20 elements. Find the 3rd, 5th and 7th elements of this vector.\n"
   ]
  },
  {
   "cell_type": "code",
   "execution_count": null,
   "metadata": {},
   "outputs": [],
   "source": [
    "# YOUR CODE HERE"
   ]
  },
  {
   "attachments": {},
   "cell_type": "markdown",
   "metadata": {},
   "source": [
    "17. Create a random vector with 10 elements and replace the 4th element of this array with a different number."
   ]
  },
  {
   "cell_type": "code",
   "execution_count": null,
   "metadata": {},
   "outputs": [],
   "source": [
    "# YOUR CODE HERE"
   ]
  },
  {
   "attachments": {},
   "cell_type": "markdown",
   "metadata": {},
   "source": [
    "18. Look up the concepts of *diagonal matrix* and *trace matrix* online and write a small explanation about what they are.\n"
   ]
  },
  {
   "attachments": {},
   "cell_type": "markdown",
   "metadata": {},
   "source": [
    "YOUR ANSWER HERE"
   ]
  },
  {
   "attachments": {},
   "cell_type": "markdown",
   "metadata": {},
   "source": [
    "19. Create a 5x5 diagonal matrix with elements of your choosing. What are the indexes of the diagonal?\n"
   ]
  },
  {
   "cell_type": "code",
   "execution_count": null,
   "metadata": {},
   "outputs": [],
   "source": [
    "# YOUR CODE HERE"
   ]
  },
  {
   "attachments": {},
   "cell_type": "markdown",
   "metadata": {},
   "source": [
    "20. Create a vector that ranges from 10 to 20. Print the values from the 3rd index to the last index.\n"
   ]
  },
  {
   "cell_type": "code",
   "execution_count": null,
   "metadata": {},
   "outputs": [],
   "source": [
    "# YOUR CODE HERE"
   ]
  },
  {
   "attachments": {},
   "cell_type": "markdown",
   "metadata": {},
   "source": [
    "21. Construct a 10x10 matrix with random elements and perform the following indexing tasks on it. Each task should be a single indexing operation.\n",
    " - Retrieve column 5 of row 3. Moreover;\n",
    " - Retrieve all elements of column 5.\n",
    " - Retrieve the 2nd row of all columns.\n",
    " - Retrieve row 2 through 7 of all columns.\n",
    " - Retrieve values with row index 2 to 5 and column index 3 to 7.\n",
    " - Retrieve the values from row index 5 to the end and column index from the top to 4.\n",
    " - Replace the value corresponding to the 5th row and the 5th column with your year of birth."
   ]
  },
  {
   "cell_type": "code",
   "execution_count": null,
   "metadata": {},
   "outputs": [],
   "source": [
    "# YOUR CODE HERE"
   ]
  },
  {
   "attachments": {},
   "cell_type": "markdown",
   "metadata": {},
   "source": [
    "22. Construct a one-dimensional array from 0 to 50 jumping with steps of 5 (`[5, 10, ...]`). Use the numpy methods to perform the following tasks;\n",
    "- Print all values greater than 20.\n",
    "- Print all values less than 30.\n",
    "- How many values are 33 in it?\n",
    "- Multiply all the elements of the created array by 5."
   ]
  },
  {
   "cell_type": "code",
   "execution_count": null,
   "metadata": {},
   "outputs": [],
   "source": [
    "# YOUR CODE HERE"
   ]
  },
  {
   "attachments": {},
   "cell_type": "markdown",
   "metadata": {},
   "source": [
    "23. Construct an array of 50 random floats between 0 and 1 and take the average. Moreover;\n",
    "- Get the standard deviation.\n",
    "- Get the variance.\n",
    "- Take the median.\n",
    "- Find the smallest value.\n",
    "- Find the largest value."
   ]
  },
  {
   "cell_type": "code",
   "execution_count": null,
   "metadata": {},
   "outputs": [],
   "source": [
    "# YOUR CODE HERE"
   ]
  },
  {
   "attachments": {},
   "cell_type": "markdown",
   "metadata": {},
   "source": [
    "24. What are the differences between Pandas Series and NumPy arrays?"
   ]
  },
  {
   "attachments": {},
   "cell_type": "markdown",
   "metadata": {},
   "source": [
    "YOUR ANSWER HERE"
   ]
  },
  {
   "attachments": {},
   "cell_type": "markdown",
   "metadata": {},
   "source": [
    "25. Create a 5-element series with different data types, with an index of capital letters."
   ]
  },
  {
   "cell_type": "code",
   "execution_count": null,
   "metadata": {},
   "outputs": [],
   "source": [
    "# YOUR CODE HERE"
   ]
  },
  {
   "attachments": {},
   "cell_type": "markdown",
   "metadata": {},
   "source": [
    "26. Create a 5-element dictionary with keys as country names and values as capitals and turn it into a series. An example: ` \"france\" : \"paris\"`)."
   ]
  },
  {
   "cell_type": "code",
   "execution_count": null,
   "metadata": {},
   "outputs": [],
   "source": [
    "# YOUR CODE HERE"
   ]
  },
  {
   "attachments": {},
   "cell_type": "markdown",
   "metadata": {},
   "source": [
    "27. Create a random vector with 10 elements.\n",
    "- Convert the vector to series and with strings as indeces. For example, a,b,c,d,e,f,g..\n",
    "- Retrieve the 3rd element of the series using the index name (for example: c).\n",
    "- Retrieve the 1st element of the series using the index number.\n",
    "- Access the 2nd and 7th elements of the series at the same time, using the index name. (Example: values corresponding to index b and g)"
   ]
  },
  {
   "cell_type": "code",
   "execution_count": null,
   "metadata": {},
   "outputs": [],
   "source": [
    "# YOUR CODE HERE"
   ]
  },
  {
   "attachments": {},
   "cell_type": "markdown",
   "metadata": {},
   "source": [
    "28. Create two 5-element series with elements of your choice with default index.\n",
    "- Combine the series you have created.\n",
    "- Arrange the index of the resulting concatenated 10-element series from 1 to 10."
   ]
  },
  {
   "cell_type": "code",
   "execution_count": null,
   "metadata": {},
   "outputs": [],
   "source": [
    "# YOUR CODE HERE"
   ]
  },
  {
   "attachments": {},
   "cell_type": "markdown",
   "metadata": {},
   "source": [
    "**Bonus homework**:\n",
    "\n",
    "\n",
    "Generate two 20x20 matrices with values between 0 and 1 randomly in a loop and take the difference of these\n",
    "matrices. Repeat this process until all elements on the diagonal of the difference matrix\n",
    "is between -0.1 and 0.1. When the desired matrix is found, let the program stop\n",
    "and print the total number of cycles, how long it took, and the desired matrix\n",
    "with print.\n",
    "\n",
    "\n",
    "Tip: Finding the 20 x 20 matrix can take hours. Therefore, to test the accuracy\n",
    "of your algorithm, you can first try it on small matrices such as 4x4, 5x5. And\n",
    "you can try the latest 20x20 by increasing the number of matrix. (You can do\n",
    "the matrix generation with the np.random.random((a,b)) function. It generates\n",
    "an array of desired sizes between 0-1.)\n"
   ]
  },
  {
   "cell_type": "code",
   "execution_count": null,
   "metadata": {},
   "outputs": [],
   "source": [
    "# YOUR CODE HERE"
   ]
  }
 ],
 "metadata": {
  "kernelspec": {
   "display_name": "Python 3",
   "language": "python",
   "name": "python3"
  },
  "language_info": {
   "codemirror_mode": {
    "name": "ipython",
    "version": 3
   },
   "file_extension": ".py",
   "mimetype": "text/x-python",
   "name": "python",
   "nbconvert_exporter": "python",
   "pygments_lexer": "ipython3",
   "version": "3.10.8"
  },
  "orig_nbformat": 4,
  "vscode": {
   "interpreter": {
    "hash": "8a94588eda9d64d9e9a351ab8144e55b1fabf5113b54e67dd26a8c27df0381b3"
   }
  }
 },
 "nbformat": 4,
 "nbformat_minor": 2
}
